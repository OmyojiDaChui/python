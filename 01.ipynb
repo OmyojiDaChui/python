{
 "cells": [
  {
   "cell_type": "markdown",
   "metadata": {},
   "source": [
    "# Задание\n",
    "Объясните результат операции:"
   ]
  },
  {
   "cell_type": "code",
   "execution_count": 92,
   "metadata": {},
   "outputs": [
    {
     "name": "stdout",
     "output_type": "stream",
     "text": [
      "[10, 8]\n"
     ]
    }
   ],
   "source": [
    "#Объясните результат операции#\n",
    "arr=[1,2,3,4,5,6,7,8,9,10]\n",
    "print(arr[:5:-2])\n",
    "#Из последнего элемента -Отсчитайте четвертую в обратном порядке.#\n",
    "#шага - 2#"
   ]
  },
  {
   "cell_type": "markdown",
   "metadata": {},
   "source": [
    "# Получите перевернутый список:#"
   ]
  },
  {
   "cell_type": "code",
   "execution_count": 3,
   "metadata": {},
   "outputs": [
    {
     "name": "stdout",
     "output_type": "stream",
     "text": [
      "[9, 8, 7, 6, 5, 4, 3, 2, 1, 0]\n"
     ]
    }
   ],
   "source": [
    "data = list(range(10))\n",
    "print(data[::-1])"
   ]
  },
  {
   "cell_type": "markdown",
   "metadata": {},
   "source": [
    "# Получите массив без первого и двух последних элементов:#"
   ]
  },
  {
   "cell_type": "code",
   "execution_count": 5,
   "metadata": {},
   "outputs": [
    {
     "name": "stdout",
     "output_type": "stream",
     "text": [
      "[1, 2, 3, 4, 5, 6, 7]\n"
     ]
    }
   ],
   "source": [
    "#Получите массив без первого и двух последних элементов:#\n",
    "data = list(range(10))\n",
    "print(data[1:8:1])\n"
   ]
  },
  {
   "cell_type": "markdown",
   "metadata": {},
   "source": [
    "# Получите массив без крайних рядов и колонок (по одной с каждой стороны)#"
   ]
  },
  {
   "cell_type": "code",
   "execution_count": 95,
   "metadata": {},
   "outputs": [
    {
     "name": "stdout",
     "output_type": "stream",
     "text": [
      "[[9 0 3 3 7 7]\n",
      " [8 9 9 3 4 5]\n",
      " [4 1 2 0 0 6]\n",
      " [1 3 6 6 4 0]\n",
      " [6 7 5 5 9 4]]\n"
     ]
    }
   ],
   "source": [
    "#Получите массив без крайних рядов и колонок (по одной с каждой стороны)#\n",
    "data = np.random.randint(low=0, high=10, size=(5, 6))\n",
    "print(data)"
   ]
  },
  {
   "cell_type": "markdown",
   "metadata": {},
   "source": [
    "# Произведите перемешивание колонок с помощью функции numpy.random.permutation():#"
   ]
  },
  {
   "cell_type": "code",
   "execution_count": 36,
   "metadata": {},
   "outputs": [
    {
     "name": "stdout",
     "output_type": "stream",
     "text": [
      "[[4 0 1 2 4 1]\n",
      " [9 8 7 6 5 3]\n",
      " [7 9 5 2 3 8]]\n",
      "[[4 0 1 2 4 1]\n",
      " [9 8 7 6 5 3]\n",
      " [7 9 5 2 3 8]]\n"
     ]
    }
   ],
   "source": [
    "#Произведите перемешивание колонок с помощью функции numpy.random.permutation():#\n",
    "data = np.random.randint(low=0, high=10, size=(3, 6))\n",
    "print(data)\n",
    "\n",
    "a=np.random.permutation(data)\n",
    "print(a)\n",
    "# такой же массив#\n",
    "#но со случайной перестановкой колонок#"
   ]
  },
  {
   "cell_type": "markdown",
   "metadata": {},
   "source": [
    "# Определите, имеется ли хотя бы одно значение больше пяти и меньше восьми в массиве:\n",
    "#"
   ]
  },
  {
   "cell_type": "code",
   "execution_count": 109,
   "metadata": {},
   "outputs": [
    {
     "name": "stdout",
     "output_type": "stream",
     "text": [
      "True\n"
     ]
    }
   ],
   "source": [
    "#Определите, имеется ли хотя бы одно значение больше пяти и меньше восьми в массиве:\n",
    "#\n",
    "import numpy as np\n",
    "arr = np.array([[1, 2, 3, 4], [5, 6, 7, 8], [9, 10, 11, 12]])\n",
    "print(arr2.any())   # True\n"
   ]
  },
  {
   "cell_type": "markdown",
   "metadata": {},
   "source": [
    "# Напишите операцию получения суммы элементов по всем стобцам:#"
   ]
  },
  {
   "cell_type": "code",
   "execution_count": 104,
   "metadata": {},
   "outputs": [
    {
     "name": "stdout",
     "output_type": "stream",
     "text": [
      "37\n"
     ]
    }
   ],
   "source": [
    "#Напишите операцию получения суммы элементов по всем стобцам:#\n",
    "data = np.random.randint(low=0, high=5, size=(3, 6))\n",
    "print(np.sum(data))"
   ]
  },
  {
   "cell_type": "markdown",
   "metadata": {},
   "source": [
    "# Объедините три массива вдоль колонок#"
   ]
  },
  {
   "cell_type": "code",
   "execution_count": 134,
   "metadata": {},
   "outputs": [
    {
     "name": "stdout",
     "output_type": "stream",
     "text": [
      "[[ 0  1  2  0  1  2  3  0  1  2  3  4]\n",
      " [ 3  4  5  4  5  6  7  5  6  7  8  9]\n",
      " [ 6  7  8  8  9 10 11 10 11 12 13 14]]\n"
     ]
    }
   ],
   "source": [
    "x = np.arange(9).reshape((3, 3))\n",
    "y = np.arange(12).reshape((3, 4))\n",
    "z = np.arange(15).reshape((3, 5))\n",
    "print(np.concatenate((x, y,z), axis=1))\n",
    "#TODO - получите объединенный массив:#"
   ]
  },
  {
   "cell_type": "markdown",
   "metadata": {},
   "source": [
    "# Напишите реализацию добавления стобца единиц к матрице слева:#"
   ]
  },
  {
   "cell_type": "code",
   "execution_count": 164,
   "metadata": {},
   "outputs": [
    {
     "name": "stdout",
     "output_type": "stream",
     "text": [
      "[[1. 1. 2. 3.]\n",
      " [1. 4. 5. 6.]\n",
      " [1. 7. 8. 9.]]\n"
     ]
    }
   ],
   "source": [
    "#Напишите реализацию добавления стобца единиц к матрице слева:#\n",
    "x = np.arange(1, 10).reshape((3, 3))\n",
    "new_x = np.ones((3, 1))\n",
    "b = np.hstack([new_x, x])\n",
    "print(b)\n",
    "# TODO - получить матрицу со столбцом единиц слева\n",
    "# [[1 1 2 3]\n",
    "#  [1 4 5 6]\n",
    "#  [1 7 8 9]]"
   ]
  },
  {
   "cell_type": "markdown",
   "metadata": {},
   "source": [
    "# Задание\n",
    "По такому же принципу именования найдите функцию, которая возвращает индекс максимального/минимального (в завимости от варианта) элемента в массиве.\n",
    "\n",
    "Воспользуйтесь найденной функцией и найдите индексы максимальных элементов в каждом столбце 2D матрицы:"
   ]
  },
  {
   "cell_type": "code",
   "execution_count": 145,
   "metadata": {},
   "outputs": [
    {
     "name": "stdout",
     "output_type": "stream",
     "text": [
      "[0 2 3 3 1]\n",
      "[2 0 1 1 0]\n"
     ]
    }
   ],
   "source": [
    "arr = np.array([\n",
    "    [11, -1, 1, 3, 5],\n",
    "    [6, 1, 0, -1, 10],\n",
    "    [1, 3, 2, 3, 6],\n",
    "    [5, 2, 7, 8, 9],\n",
    "])\n",
    "print(np.argmax(arr, axis=0)) \n",
    "print(np.argmin(arr, axis=0)) \n",
    "#   TODO   [0 2 3 3 1]/[2 0 1 1 0]#"
   ]
  },
  {
   "cell_type": "markdown",
   "metadata": {},
   "source": [
    "# Задание¶\n",
    "Напишите код сортировки массива по столбцам:"
   ]
  },
  {
   "cell_type": "code",
   "execution_count": 3,
   "metadata": {},
   "outputs": [
    {
     "name": "stdout",
     "output_type": "stream",
     "text": [
      "[[11  2  1  3  5]\n",
      " [ 6  2  0 -1 10]\n",
      " [ 1  3  2  3  5]\n",
      " [ 5  2  7  8  9]]\n",
      "[[ 1  2  0 -1  5]\n",
      " [ 5  2  1  3  5]\n",
      " [ 6  2  2  3  9]\n",
      " [11  3  7  8 10]]\n"
     ]
    }
   ],
   "source": [
    "import numpy as np\n",
    "arr = np.array([\n",
    "    [11, 2, 1, 3, 5],\n",
    "    [6, 2, 0, -1, 10],\n",
    "    [1, 3, 2, 3, 5],\n",
    "    [5, 2, 7, 8, 9],\n",
    "])\n",
    "print(arr)\n",
    "new_arr=np.sort(arr,axis=0)\n",
    "print(new_arr)"
   ]
  },
  {
   "cell_type": "markdown",
   "metadata": {},
   "source": [
    "# Задачки\n",
    "Создайте массив, состоящий из случайных элементов в диапазоне $[-10; 20]$ размером $(5, 7)$:"
   ]
  },
  {
   "cell_type": "code",
   "execution_count": 72,
   "metadata": {},
   "outputs": [
    {
     "data": {
      "text/plain": [
       "array([[-6, -6,  4, -8,  7,  6, -8],\n",
       "       [ 2,  5,  9,  2,  4, -9,  7],\n",
       "       [ 1,  4, -5,  9,  4, -1,  9],\n",
       "       [ 2,  3, -4, -6,  3,  1, -8],\n",
       "       [-7, -8,  4,  9,  2, -2,  4]])"
      ]
     },
     "execution_count": 72,
     "metadata": {},
     "output_type": "execute_result"
    }
   ],
   "source": [
    "np.random.randint(-10, 10, size=(5, 7))"
   ]
  },
  {
   "cell_type": "markdown",
   "metadata": {},
   "source": [
    "# Добавьте границу в виде нулей со всех сторон 2D массива:#\n"
   ]
  },
  {
   "cell_type": "code",
   "execution_count": 76,
   "metadata": {},
   "outputs": [
    {
     "name": "stdout",
     "output_type": "stream",
     "text": [
      "[[ 0  0  0  0  0  0  0]\n",
      " [ 0  1  2  3  4  5  0]\n",
      " [ 0  6  7  8  9 10  0]\n",
      " [ 0 11 12 13 14 15  0]\n",
      " [ 0  0  0  0  0  0  0]]\n"
     ]
    }
   ],
   "source": [
    "\n",
    "data = np.arange(1, 16).reshape((3, 5))\n",
    "data = np.pad(data, pad_width=1, mode='constant', constant_values=0)\n",
    "print(data)\n",
    "# TODO - реализуйте добавление нулей со всех сторон массива:\n",
    "# [[ 0  0  0  0  0  0  0]\n",
    "#  [ 0  1  2  3  4  5  0]\n",
    "#  [ 0  6  7  8  9 10  0]\n",
    "#  [ 0 11 12 13 14 15  0]\n",
    "#  [ 0  0  0  0  0  0  0]]"
   ]
  },
  {
   "cell_type": "markdown",
   "metadata": {},
   "source": [
    "# Разберитесь с функцией np.clip() и произведите ограничение массива, чтобы в нем значения были не более шести и не менее двух:\n",
    "\n"
   ]
  },
  {
   "cell_type": "code",
   "execution_count": 79,
   "metadata": {},
   "outputs": [
    {
     "name": "stdout",
     "output_type": "stream",
     "text": [
      "[[2 2 3 4 5]\n",
      " [6 6 6 6 6]\n",
      " [6 6 6 6 6]]\n"
     ]
    }
   ],
   "source": [
    "data = np.arange(1, 16).reshape((3, 5))\n",
    "data = np.clip(data, 2, 6)\n",
    "print(data)\n",
    "# TODO - ограничьте значения массива\n",
    "# [[2 2 3 4 5]\n",
    "#  [6 6 6 6 6]\n",
    "#  [6 6 6 6 6]]"
   ]
  },
  {
   "cell_type": "markdown",
   "metadata": {},
   "source": [
    "# Произведите модификацию массива так, чтобы значение в колонке результата соответствовало исходному значению, возведенному в степень индекса колонки:"
   ]
  },
  {
   "cell_type": "code",
   "execution_count": 60,
   "metadata": {},
   "outputs": [
    {
     "name": "stdout",
     "output_type": "stream",
     "text": [
      "[[ 1.  2.  4.  8. 16.]\n",
      " [ 1.  2.  4.  8. 16.]\n",
      " [ 1.  2.  4.  8. 16.]]\n"
     ]
    }
   ],
   "source": [
    "data = np.full((3, 5), fill_value=2, dtype=np.int32)\n",
    "vec = np.arange(5)\n",
    "for i_row in range(data.shape[0]):\n",
    "    result[i_row,:] = pow(data[i_row,:] ,vec)\n",
    "print(result)\n",
    "# TODO - возведите значения в колонках в степень индекса колонки\n",
    "# [[ 1  2  4  8 16]\n",
    "#  [ 1  2  4  8 16]\n",
    "#  [ 1  2  4  8 16]]\n"
   ]
  },
  {
   "cell_type": "markdown",
   "metadata": {},
   "source": [
    "# Умножьте каждую колонку на ее индекс:"
   ]
  },
  {
   "cell_type": "code",
   "execution_count": 67,
   "metadata": {},
   "outputs": [
    {
     "name": "stdout",
     "output_type": "stream",
     "text": [
      "[[0. 2. 4. 6. 8.]\n",
      " [0. 2. 4. 6. 8.]\n",
      " [0. 2. 4. 6. 8.]]\n"
     ]
    }
   ],
   "source": [
    "data = np.full((3, 5), fill_value=2, dtype=np.int32)\n",
    "vec = np.arange(5)\n",
    "for i_row in range(data.shape[0]):\n",
    "    result[i_row,:] = data[i_row,:]*vec\n",
    "print(result)\n",
    "# TODO - Умножьте каждый столбец на свой индекс\n",
    "# [[0 2 4 6 8]\n",
    "#  [0 2 4 6 8]\n",
    "#  [0 2 4 6 8]]"
   ]
  },
  {
   "cell_type": "markdown",
   "metadata": {},
   "source": [
    "# Умножьте каждый четный ряд в матрице на вектор:"
   ]
  },
  {
   "cell_type": "code",
   "execution_count": 4,
   "metadata": {},
   "outputs": [
    {
     "name": "stdout",
     "output_type": "stream",
     "text": [
      "[[1 1 1 1]\n",
      " [2 2 2 2]\n",
      " [3 3 3 3]\n",
      " [4 4 4 4]\n",
      " [5 5 5 5]\n",
      " [6 6 6 6]\n",
      " [7 7 7 7]]\n",
      "\n",
      "[[ 1  2  1  2]\n",
      " [ 2  2  2  2]\n",
      " [ 3  6  3  6]\n",
      " [ 4  4  4  4]\n",
      " [ 5 10  5 10]\n",
      " [ 6  6  6  6]\n",
      " [ 7 14  7 14]]\n"
     ]
    }
   ],
   "source": [
    "import numpy as np\n",
    "data = np.repeat(np.arange(1, 8), 4).reshape(7, 4)\n",
    "vec = np.array([1, 2, 1, 2])\n",
    "print(data)\n",
    "print()\n",
    "for i in range(data.shape[0]):\n",
    "    if i%2==0:\n",
    "      data[i,:]=data[i,:]*vec\n",
    "print (data)"
   ]
  },
  {
   "cell_type": "markdown",
   "metadata": {},
   "source": [
    "# Определите индексы двух наибольших элементов в матрице по каждому ряду:"
   ]
  },
  {
   "cell_type": "code",
   "execution_count": 112,
   "metadata": {},
   "outputs": [
    {
     "name": "stdout",
     "output_type": "stream",
     "text": [
      "[[4 1]\n",
      " [1 2]\n",
      " [3 1]\n",
      " [5 3]]\n"
     ]
    }
   ],
   "source": [
    "data = np.array([[20, 22,  2, 14, 25,  8],\n",
    "                [ 7, 25, 23,  3, 22, 15],\n",
    "                [ 8, 16,  9, 22,  0,  9],\n",
    "                [ 4, 24, 24, 28,  3, 40]])\n",
    "idx = (-data).argsort()[:4]\n",
    "print(idx[:,[0,1]])\n",
    "# TODO - определите индексы двух наибольших элементов по каждому ряду\n",
    "# [[4 1]\n",
    "#  [1 2]\n",
    "#  [3 1]\n",
    "#  [5 3]]\n"
   ]
  },
  {
   "cell_type": "markdown",
   "metadata": {},
   "source": [
    "# Выберите две случайные колонки из массива:"
   ]
  },
  {
   "cell_type": "code",
   "execution_count": 139,
   "metadata": {},
   "outputs": [
    {
     "data": {
      "text/plain": [
       "array([[ 8, 16,  9, 22,  0,  9],\n",
       "       [20, 22,  2, 14, 25,  8]])"
      ]
     },
     "execution_count": 139,
     "metadata": {},
     "output_type": "execute_result"
    }
   ],
   "source": [
    "data = np.array([[20, 22,  2, 14, 25,  8],\n",
    "                [ 7, 25, 23,  3, 22, 15],\n",
    "                [ 8, 16,  9, 22,  0,  9],\n",
    "                [ 4, 24, 24, 28,  3, 40]])\n",
    "\n",
    "# TODO - выберите случайные две колонки из массива\n",
    "# *Например,\n",
    "# [[22  8]\n",
    "#  [25 15]\n",
    "#  [16  9]\n",
    "#  [24 40]]"
   ]
  },
  {
   "cell_type": "markdown",
   "metadata": {},
   "source": [
    "# Создайте массив размером $(10, 3)$, который состоит из повторяющихся рядов исходного массива:\n",
    "\n"
   ]
  },
  {
   "cell_type": "code",
   "execution_count": 181,
   "metadata": {},
   "outputs": [
    {
     "name": "stdout",
     "output_type": "stream",
     "text": [
      "[[0 1 2]\n",
      " [3 4 5]\n",
      " [6 7 8]\n",
      " [0 1 2]\n",
      " [3 4 5]\n",
      " [6 7 8]\n",
      " [0 1 2]\n",
      " [3 4 5]\n",
      " [6 7 8]]\n"
     ]
    }
   ],
   "source": [
    "data = np.arange(9).reshape(3, 3)\n",
    "data = np.tile(data,(3,1))\n",
    "print(data)\n",
    "# TODO - создайте массив из повторяющихся рядов размером (10, 3)\n"
   ]
  },
  {
   "cell_type": "markdown",
   "metadata": {},
   "source": [
    "# Соберите массив, состоящий из элементов 2й и 4й колонок и строк с 1й по 3ю:\n",
    "\n"
   ]
  },
  {
   "cell_type": "code",
   "execution_count": 21,
   "metadata": {},
   "outputs": [
    {
     "name": "stdout",
     "output_type": "stream",
     "text": [
      "[23, 22]\n",
      "[9, 0]\n",
      "[33, 7]\n"
     ]
    }
   ],
   "source": [
    "data = np.array([[20, 22,  2, 14, 25,  8],\n",
    "                [ 7, 25, 23,  3, 22, 15],\n",
    "                [ 8, 16,  9, 22,  0,  9],\n",
    "                [ 14, 9,  33, 21,  7,  6],\n",
    "                [ 4, 24, 24, 28,  3, 40]])\n",
    "print([data[1,2],data[1,4]])\n",
    "print([data[2,2],data[2,4]])\n",
    "print([data[3,2],data[3,4]])\n",
    "\n",
    "\n",
    "# TODO - соберите матрицу из конкретных элементов массива\n",
    "# [[23 22]\n",
    "#  [ 9  0]\n",
    "#  [33  7]]"
   ]
  },
  {
   "cell_type": "markdown",
   "metadata": {},
   "source": [
    "# Инвертируйте порядок элементов в последних двух колонках:\n",
    "\n"
   ]
  },
  {
   "cell_type": "code",
   "execution_count": 40,
   "metadata": {},
   "outputs": [
    {
     "name": "stdout",
     "output_type": "stream",
     "text": [
      "[[20 22  2 14  3 40]\n",
      " [ 7 25 23  3  7  6]\n",
      " [ 8 16  9 22  0  9]\n",
      " [14  9 33 21 22 15]\n",
      " [ 4 24 24 28 25  8]]\n"
     ]
    }
   ],
   "source": [
    "import numpy as np\n",
    "data = np.array([[20, 22,  2, 14, 25,  8],\n",
    "                [ 7, 25, 23,  3, 22, 15],\n",
    "                [ 8, 16,  9, 22,  0,  9],\n",
    "                [ 14, 9,  33, 21,  7,  6],\n",
    "                [ 4, 24, 24, 28,  3, 40]])\n",
    "b = data[:, [-2, -1]]\n",
    "you = np.flipud(b)\n",
    "zuo = np.delete(data, [4,5], axis=1)\n",
    "print(np.hstack((zuo,you)))\n",
    "\n",
    "\n",
    "# TODO - инвертируйте порядок последних двух колонок\n",
    "# [[20 22  2 14  3 40]\n",
    "#  [ 7 25 23  3  7  6]\n",
    "#  [ 8 16  9 22  0  9]\n",
    "#  [14  9 33 21 22 15]\n",
    "#  [ 4 24 24 28 25  8]]"
   ]
  },
  {
   "cell_type": "code",
   "execution_count": null,
   "metadata": {},
   "outputs": [],
   "source": []
  }
 ],
 "metadata": {
  "kernelspec": {
   "display_name": "Python 3",
   "language": "python",
   "name": "python3"
  },
  "language_info": {
   "codemirror_mode": {
    "name": "ipython",
    "version": 3
   },
   "file_extension": ".py",
   "mimetype": "text/x-python",
   "name": "python",
   "nbconvert_exporter": "python",
   "pygments_lexer": "ipython3",
   "version": "3.8.5"
  }
 },
 "nbformat": 4,
 "nbformat_minor": 4
}
